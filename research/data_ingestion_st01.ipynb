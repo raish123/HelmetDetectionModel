{
 "cells": [
  {
   "cell_type": "code",
   "execution_count": 1,
   "metadata": {},
   "outputs": [],
   "source": [
    "from src.Mask.exceptions import CustomException\n",
    "import os,sys\n",
    "from src.Mask.loggers import logger\n",
    "from src.Mask.Constants import *\n",
    "from src.Mask.Utils import read_yaml,create_directory,download_data_from_s3\n",
    "from dataclasses import dataclass"
   ]
  },
  {
   "cell_type": "code",
   "execution_count": 2,
   "metadata": {},
   "outputs": [],
   "source": [
    "#step3)update the entity file :-entity file is nothing but we r defining the class variable and \n",
    "#along with dtype which was used in yaml file\n",
    "@dataclass\n",
    "class DataIngestionConfig():\n",
    "    ingestion_root_dir_path:Path\n",
    "    zip_dir_path:Path\n",
    "    unzip_dir_path:Path\n"
   ]
  },
  {
   "cell_type": "code",
   "execution_count": 3,
   "metadata": {},
   "outputs": [],
   "source": [
    "#step4)update the configurationmanager file in this file we read the yaml file \n",
    "#and create directories and assigning values to class variable and taking rtn as function\n",
    "\n",
    "class ConfigurationManager():\n",
    "    #constructor we used to initialize the instyance variable\n",
    "    def __init__(self,config_filepath=CONFIG_FILEPATH,param_filepath=PARAM_FILEPATH):\n",
    "        self.config = read_yaml(config_filepath) #rtn as configbox dicatonary\n",
    "        self.param = read_yaml(param_filepath) #rtn as configbox dicatonary\n",
    "\n",
    "        #now creating artifacts directory\n",
    "        create_directory([self.config.artifact_root_dir]) #will create artifacts directory\n",
    "\n",
    "    #creating method to initialize the value to class variable and taking rtn as function\n",
    "    def get_data_ingestion(self) ->DataIngestionConfig:\n",
    "        #defining local variable which was used only by this method\n",
    "        config = self.config.Dataingestion\n",
    "\n",
    "        #creating directory dataingestion in project structure\n",
    "        create_directory([config.ingestion_root_dir_path])\n",
    "\n",
    "        #now initialize the value to class variable\n",
    "        data_ingestion_config = DataIngestionConfig(\n",
    "            ingestion_root_dir_path=config.ingestion_root_dir_path,\n",
    "            zip_dir_path=config.zip_dir_path,\n",
    "            unzip_dir_path=config.unzip_dir_path\n",
    "        )\n",
    "        return data_ingestion_config"
   ]
  },
  {
   "cell_type": "code",
   "execution_count": 4,
   "metadata": {},
   "outputs": [],
   "source": [
    "#step5) update the component file of DataIngestion in which we initialize theobject to class variable\n",
    "class DataIngestion():\n",
    "    def __init__(self,config:DataIngestionConfig):\n",
    "        self.config = config\n",
    "        \n",
    "        #now calling the function to download data from s3 Bucket\n",
    "        download_data_from_s3(unzip_dir_path = self.config.unzip_dir_path,local_dir_path=self.config.zip_dir_path)\n",
    "        "
   ]
  },
  {
   "cell_type": "code",
   "execution_count": 5,
   "metadata": {},
   "outputs": [
    {
     "data": {
      "text/plain": [
       "'d:\\\\MaskImageDetection\\\\MaskDetectionModel'"
      ]
     },
     "execution_count": 5,
     "metadata": {},
     "output_type": "execute_result"
    }
   ],
   "source": [
    "os.chdir('../')\n",
    "%pwd"
   ]
  },
  {
   "cell_type": "code",
   "execution_count": 6,
   "metadata": {},
   "outputs": [
    {
     "name": "stdout",
     "output_type": "stream",
     "text": [
      "[2024-09-26 15:12:37,588]-INFO-33-Yaml file config\\config.yaml reading\n",
      "[2024-09-26 15:12:37,740]-INFO-33-Yaml file param.yaml reading\n",
      "[2024-09-26 15:12:37,754]-INFO-49-Directory artifacts created\n",
      "[2024-09-26 15:12:37,766]-INFO-49-Directory artifacts/Dataingestion created\n",
      "[2024-09-26 15:12:38,570]-INFO-1278-Found credentials in shared credentials file: ~/.aws/credentials\n",
      "datasets.zip\n"
     ]
    },
    {
     "name": "stderr",
     "output_type": "stream",
     "text": [
      "d:\\MaskImageDetection\\MaskDetectionModel\\Mask\\lib\\site-packages\\urllib3\\connectionpool.py:1064: InsecureRequestWarning: Unverified HTTPS request is being made to host 'raishmumbaibucket.s3.ap-south-1.amazonaws.com'. Adding certificate verification is strongly advised. See: https://urllib3.readthedocs.io/en/1.26.x/advanced-usage.html#ssl-warnings\n",
      "  warnings.warn(\n",
      "d:\\MaskImageDetection\\MaskDetectionModel\\Mask\\lib\\site-packages\\urllib3\\connectionpool.py:1064: InsecureRequestWarning: Unverified HTTPS request is being made to host 'raishmumbaibucket.s3.us-east-1.amazonaws.com'. Adding certificate verification is strongly advised. See: https://urllib3.readthedocs.io/en/1.26.x/advanced-usage.html#ssl-warnings\n",
      "  warnings.warn(\n"
     ]
    },
    {
     "name": "stdout",
     "output_type": "stream",
     "text": [
      "Extracted all files to artifacts/Dataingestion/\n"
     ]
    }
   ],
   "source": [
    "#step6) update the training pipeline\n",
    "try:\n",
    "    #creating an object of configurationmanager class\n",
    "    cm = ConfigurationManager()\n",
    "\n",
    "    data_ingestion = cm.get_data_ingestion()\n",
    "\n",
    "    #creating an object of Dataingestion class\n",
    "    di = DataIngestion(config=data_ingestion)\n",
    "    \n",
    "except Exception as e:\n",
    "    raise CustomException(e,sys)"
   ]
  },
  {
   "cell_type": "code",
   "execution_count": null,
   "metadata": {},
   "outputs": [],
   "source": []
  },
  {
   "cell_type": "code",
   "execution_count": null,
   "metadata": {},
   "outputs": [],
   "source": []
  }
 ],
 "metadata": {
  "kernelspec": {
   "display_name": "Python 3",
   "language": "python",
   "name": "python3"
  },
  "language_info": {
   "codemirror_mode": {
    "name": "ipython",
    "version": 3
   },
   "file_extension": ".py",
   "mimetype": "text/x-python",
   "name": "python",
   "nbconvert_exporter": "python",
   "pygments_lexer": "ipython3",
   "version": "3.8.16"
  }
 },
 "nbformat": 4,
 "nbformat_minor": 2
}
