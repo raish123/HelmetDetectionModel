{
 "cells": [
  {
   "cell_type": "code",
   "execution_count": 1,
   "metadata": {},
   "outputs": [],
   "source": [
    "#Evaluating the model means finding out the testing accuracy of model\n",
    "#and saving the accuracy score in json format\n",
    "\n",
    "#step3:-updating the entity file...entity file is nothing but whatever parameter we have define in yaml file\n",
    "#we used as a class variable init\n",
    "from src.Mask.exceptions import CustomException\n",
    "import os,sys\n",
    "from src.Mask.loggers import logger\n",
    "from src.Mask.Constants import *\n",
    "from src.Mask.Utils import read_yaml,create_directory,save_json\n",
    "from dataclasses import dataclass\n",
    "from pathlib import Path"
   ]
  },
  {
   "cell_type": "code",
   "execution_count": 2,
   "metadata": {},
   "outputs": [],
   "source": [
    "@dataclass\n",
    "class EvaluatingModelConfig():\n",
    "    root_dirpath:Path\n",
    "    model_trained_dirpath:Path\n",
    "    all_param:dict\n",
    "    data_dirpath:Path\n",
    "    score_dirpath:Path\n"
   ]
  },
  {
   "cell_type": "code",
   "execution_count": 3,
   "metadata": {},
   "outputs": [],
   "source": [
    "#step4)updating the configurationmanager file :\n",
    "#in this file we read the yaml file and create directories accordingly then \n",
    "#getting the dirpath from yaml file as value and assigning them into class variable and taking rtn as function\n",
    "class ConfigurationManager():\n",
    "    def __init__(self,config_filepath=CONFIG_FILEPATH,param_filepath=PARAM_FILEPATH):\n",
    "        self.config = read_yaml(config_filepath) #rtn the yaml file as configbox dictatonary\n",
    "        self.param = read_yaml(param_filepath)   ##rtn the yaml file as configbox dictatonary\n",
    "\n",
    "        #creating artifacts directory into project structure\n",
    "        create_directory([self.config.artifact_root_dir]) #will create artifacts directory\n",
    "\n",
    "    def get_evaluation_config(self) ->EvaluatingModelConfig:\n",
    "        #initalizing the local variable which is used by this method only\n",
    "        config = self.config.evaluating_model\n",
    "        param = self.param\n",
    "\n",
    "        #creating directory artifacts/model_evaluation \n",
    "        create_directory([config.root_dirpath])\n",
    "\n",
    "        #creating an object of EvaluatingModelConfig class and assigning the value to it\n",
    "        model_evaluation_config = EvaluatingModelConfig(\n",
    "            root_dirpath=config.root_dirpath,\n",
    "            model_trained_dirpath= config.model_trained_dirpath,\n",
    "            all_param=param,\n",
    "            data_dirpath=config.data_dirpath,\n",
    "            score_dirpath=config.score_dirpath\n",
    "        )\n",
    "\n",
    "        return model_evaluation_config"
   ]
  },
  {
   "cell_type": "code",
   "execution_count": 4,
   "metadata": {},
   "outputs": [],
   "source": [
    "import tensorflow as tf"
   ]
  },
  {
   "cell_type": "code",
   "execution_count": 5,
   "metadata": {},
   "outputs": [],
   "source": [
    "#step5)updating the component files : \n",
    "#in this file we create and object for class variable and perform task accordingly!!!\n",
    "class EvaluatingModel():\n",
    "    def __init__(self,evaluateconfig:EvaluatingModelConfig):\n",
    "        self.evaluateconfig = evaluateconfig\n",
    "\n",
    "    #Now loading trained model to evaluating the testing accuracy of it\n",
    "    def load_trained_model(self):\n",
    "        self.trained_model  = tf.keras.models.load_model(self.evaluateconfig.model_trained_dirpath)\n",
    "        \n",
    "    #creating method to perform evaluation on testing data so we r\n",
    "    # using prepreocessing techniques of image data generator of tensorflow \n",
    "\n",
    "    def _test_generator(self):\n",
    "        #creating keyward argment for datagenerator\n",
    "        datagenerator_kwarg = dict(\n",
    "            rescale=1./255,\n",
    "            validation_split=0.20\n",
    "        )\n",
    "\n",
    "        #creating keyward argment for dataflow\n",
    "        dataflow_kwarg = dict(\n",
    "            target_size=self.evaluateconfig.all_param.input_shape[:-1],\n",
    "            batch_size=self.evaluateconfig.all_param.batch_size,\n",
    "            interpolation = \"bilinear\"\n",
    "        )\n",
    "\n",
    "        #now generating the valid data for testing purpose!!!\n",
    "        valid_data_generator = tf.keras.preprocessing.image.ImageDataGenerator(\n",
    "            **datagenerator_kwarg\n",
    "        )\n",
    "\n",
    "        #now this valid_data_generator we are flowing from directory\n",
    "        self.valid_data_generator = valid_data_generator.flow_from_directory(\n",
    "            directory=self.evaluateconfig.data_dirpath,\n",
    "            shuffle=True,\n",
    "            subset='validation',\n",
    "            **dataflow_kwarg\n",
    "        )\n",
    "\n",
    "    \n",
    "\n",
    "    def evaluating(self):\n",
    "        #now we are creating the model object and compiling it!!!\n",
    "        \n",
    "        self.load_trained_model()  #now loading the method of same class\n",
    "\n",
    "        evaluating_score = self.trained_model.evaluate(self.valid_data_generator)\n",
    "\n",
    "        save_json(\n",
    "            file = Path(self.evaluateconfig.score_dirpath),\n",
    "            data = {\n",
    "                \"loss\":evaluating_score[0],\n",
    "                \"accuracy\": evaluating_score[1]\n",
    "            }\n",
    "        )\n",
    "\n",
    "        print(evaluating_score)"
   ]
  },
  {
   "cell_type": "code",
   "execution_count": 6,
   "metadata": {},
   "outputs": [
    {
     "data": {
      "text/plain": [
       "'d:\\\\MaskImageDetection\\\\MaskDetectionModel'"
      ]
     },
     "execution_count": 6,
     "metadata": {},
     "output_type": "execute_result"
    }
   ],
   "source": [
    "os.chdir('../')\n",
    "%pwd"
   ]
  },
  {
   "cell_type": "code",
   "execution_count": 7,
   "metadata": {},
   "outputs": [
    {
     "name": "stdout",
     "output_type": "stream",
     "text": [
      "[2024-10-03 21:51:52,785]-INFO-33-Yaml file config\\config.yaml reading\n",
      "[2024-10-03 21:51:52,796]-INFO-33-Yaml file param.yaml reading\n",
      "Found 12 images belonging to 2 classes.\n",
      "2/2 [==============================] - 3s 522ms/step - loss: 0.6504 - accuracy: 0.6667\n",
      "[2024-10-03 21:51:57,844]-INFO-79-Json file saved at artifacts\\model_evaluation\\score.json\n",
      "[0.6504024863243103, 0.6666666865348816]\n"
     ]
    }
   ],
   "source": [
    "#step6) updating the training pipeline\n",
    "try:\n",
    "\n",
    "    cm = ConfigurationManager()\n",
    "    evaluate_config = cm.get_evaluation_config()\n",
    "\n",
    "    em = EvaluatingModel(evaluateconfig=evaluate_config)\n",
    "\n",
    "    em.load_trained_model()\n",
    "\n",
    "    em._test_generator()\n",
    "\n",
    "    em.evaluating()\n",
    "\n",
    "except Exception as e:\n",
    "    raise CustomException(e,sys)"
   ]
  },
  {
   "cell_type": "code",
   "execution_count": null,
   "metadata": {},
   "outputs": [],
   "source": []
  },
  {
   "cell_type": "code",
   "execution_count": null,
   "metadata": {},
   "outputs": [],
   "source": []
  },
  {
   "cell_type": "code",
   "execution_count": null,
   "metadata": {},
   "outputs": [],
   "source": []
  },
  {
   "cell_type": "code",
   "execution_count": null,
   "metadata": {},
   "outputs": [],
   "source": []
  },
  {
   "cell_type": "code",
   "execution_count": null,
   "metadata": {},
   "outputs": [],
   "source": []
  },
  {
   "cell_type": "code",
   "execution_count": null,
   "metadata": {},
   "outputs": [],
   "source": []
  },
  {
   "cell_type": "code",
   "execution_count": null,
   "metadata": {},
   "outputs": [],
   "source": []
  },
  {
   "cell_type": "code",
   "execution_count": null,
   "metadata": {},
   "outputs": [],
   "source": []
  },
  {
   "cell_type": "code",
   "execution_count": null,
   "metadata": {},
   "outputs": [],
   "source": []
  },
  {
   "cell_type": "code",
   "execution_count": null,
   "metadata": {},
   "outputs": [],
   "source": []
  },
  {
   "cell_type": "code",
   "execution_count": null,
   "metadata": {},
   "outputs": [],
   "source": []
  },
  {
   "cell_type": "code",
   "execution_count": null,
   "metadata": {},
   "outputs": [],
   "source": []
  },
  {
   "cell_type": "code",
   "execution_count": null,
   "metadata": {},
   "outputs": [],
   "source": []
  },
  {
   "cell_type": "code",
   "execution_count": null,
   "metadata": {},
   "outputs": [],
   "source": []
  },
  {
   "cell_type": "code",
   "execution_count": null,
   "metadata": {},
   "outputs": [],
   "source": []
  }
 ],
 "metadata": {
  "kernelspec": {
   "display_name": "Python 3",
   "language": "python",
   "name": "python3"
  },
  "language_info": {
   "codemirror_mode": {
    "name": "ipython",
    "version": 3
   },
   "file_extension": ".py",
   "mimetype": "text/x-python",
   "name": "python",
   "nbconvert_exporter": "python",
   "pygments_lexer": "ipython3",
   "version": "3.8.16"
  }
 },
 "nbformat": 4,
 "nbformat_minor": 2
}
