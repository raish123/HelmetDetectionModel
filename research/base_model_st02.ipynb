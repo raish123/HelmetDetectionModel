{
 "cells": [
  {
   "cell_type": "code",
   "execution_count": 1,
   "metadata": {},
   "outputs": [],
   "source": [
    "import os,sys\n",
    "from src.Mask.Utils import SaveModel,read_yaml,create_directory\n",
    "from src.Mask.exceptions import CustomException\n",
    "from src.Mask.loggers import logger\n",
    "from src.Mask.Constants import *\n",
    "from dataclasses import dataclass\n",
    "from pathlib import Path"
   ]
  },
  {
   "cell_type": "code",
   "execution_count": 2,
   "metadata": {},
   "outputs": [],
   "source": [
    "#step3:- update the entity file:entity file is nothing but whatever parameter we r defining in yaml file \n",
    "#in entity class we defined them as class varibale along with dtype\n",
    "@dataclass\n",
    "class BaseModelConfig():\n",
    "    root_dirpath:Path\n",
    "    base_model_path:Path\n",
    "    updated_base_model_path:Path\n",
    "    all_param:dict\n"
   ]
  },
  {
   "cell_type": "code",
   "execution_count": 3,
   "metadata": {},
   "outputs": [],
   "source": [
    "#step4:update the configurationmanager file :In this file we are reading \n",
    "#the yaml file and creating directory and also assigning the value to class variable and returning them as fucntn\n",
    "class ConfigurationManager():\n",
    "    #constructor method to initialize the instance variable init\n",
    "    def __init__(self,config_filepath=CONFIG_FILEPATH,param_filepath=PARAM_FILEPATH):\n",
    "        self.config = read_yaml(config_filepath) #rtn value as configbox dictatonary\n",
    "        self.param = read_yaml(param_filepath)   #rtn value as configbox dictatonary\n",
    "\n",
    "        #creating main artifact directory\n",
    "        create_directory([self.config.artifact_root_dir]) #create artifacts folder \n",
    "\n",
    "    #creating another method to create base model directory\n",
    "    def get_base_model_config(self) ->BaseModelConfig:\n",
    "        #allocating local variables used inside this method\n",
    "        config = self.config.prepare_base_model\n",
    "        param = self.param\n",
    "\n",
    "        #creating directory base_model\n",
    "        create_directory([config.root_dirpath])\n",
    "\n",
    "        #creating an object of class variable and assigning value to class varibale\n",
    "        base_model_config = BaseModelConfig(\n",
    "            root_dirpath=config.root_dirpath,\n",
    "            base_model_path=config.base_model_path,\n",
    "            updated_base_model_path=config.updated_base_model_path,\n",
    "            all_param=param\n",
    "        )\n",
    "        return base_model_config\n"
   ]
  },
  {
   "cell_type": "code",
   "execution_count": 4,
   "metadata": {},
   "outputs": [],
   "source": [
    "import tensorflow as tf"
   ]
  },
  {
   "cell_type": "code",
   "execution_count": 5,
   "metadata": {},
   "outputs": [],
   "source": [
    "#step5)update the component file : in this file we create object of class variable and do task accordingly\n",
    "class BaseModel():\n",
    "    def __init__(self,modelconfig:BaseModelConfig):\n",
    "        self.modelconfig = modelconfig\n",
    "\n",
    "    #creating method to load the vgg16 base pretrained model and download (weighs and bias parameter init)\n",
    "    def basemodel(self):\n",
    "        self.model = tf.keras.applications.vgg16.VGG16(\n",
    "            include_top=self.modelconfig.all_param.include_top,\n",
    "            weights=self.modelconfig.all_param.weights,\n",
    "            input_shape=self.modelconfig.all_param.input_shape,\n",
    "            classes=self.modelconfig.all_param.classes,\n",
    "            classifier_activation=self.modelconfig.all_param.classifier_activation\n",
    "        )\n",
    "        # To see the summary of the base model\n",
    "        logger.info(f\"Base model Summary: \\n{self.model.summary()}\")\n",
    "\n",
    "        #saving the base model files in artifacts directory\n",
    "        SaveModel(filepath=Path(self.modelconfig.base_model_path),model=self.model)\n",
    "\n",
    "    @staticmethod\n",
    "    def _prepare_full_Sequentialmodel(basemodel,freeze,freeze_till,learning_rate,classes):\n",
    "        #creating a sequential model object\n",
    "        sequential_model = tf.keras.models.Sequential()\n",
    "\n",
    "        #now adding all the layers of base model to this sequential model object\n",
    "        for layer in basemodel.layers:\n",
    "            sequential_model.add(layer)\n",
    "\n",
    "        #now freezing all the layer from sequential model except the dense layers\n",
    "        if freeze:\n",
    "            for layer in sequential_model.layers:\n",
    "                layer.trainable = False #this line indicate we r using pretrained weights and bias for the custom dataset no need to change the parameter value during training\n",
    "\n",
    "        elif (freeze_till is not None) and (freeze_till>0):\n",
    "            for layer in sequential_model.layers[:freeze_till]: #remove output layer from sequemntial model\n",
    "                layer.trainable = False\n",
    "\n",
    "        #now adding flatten layer to the model\n",
    "        sequential_model.add(tf.keras.layers.Flatten())\n",
    "\n",
    "        #now adding customized Output layer to this model\n",
    "        sequential_model.add(tf.keras.layers.Dense(units=classes,activation=\"sigmoid\"))\n",
    "\n",
    "        logger.info(f\"Customizes Sequential Model: {sequential_model.summary()}\")\n",
    "\n",
    "        #now compiling the sequential model\n",
    "        sequential_model.compile(\n",
    "            optimizer=tf.keras.optimizers.Adam(learning_rate=learning_rate),\n",
    "            loss = \"binary_crossentropy\",\n",
    "            metrics = [\"accuracy\"]\n",
    "        )\n",
    "        return sequential_model\n",
    "\n",
    "\n",
    "    #Now Updating the base Model By Creating Custom Sequential Model\n",
    "    def update_base_model(self):\n",
    "        #creating an object for sequential model\n",
    "        self.sequential_model = self._prepare_full_Sequentialmodel(\n",
    "            basemodel = self.model,\n",
    "            freeze = True,\n",
    "            freeze_till = None,\n",
    "            learning_rate = self.modelconfig.all_param.learning_rate,\n",
    "            classes = self.modelconfig.all_param.classes,\n",
    "            \n",
    "        )\n",
    "\n",
    "        #saving the sequential model\n",
    "        SaveModel(filepath=Path(self.modelconfig.updated_base_model_path),model = self.sequential_model)"
   ]
  },
  {
   "cell_type": "code",
   "execution_count": 6,
   "metadata": {},
   "outputs": [
    {
     "data": {
      "text/plain": [
       "'d:\\\\MaskImageDetection\\\\MaskDetectionModel'"
      ]
     },
     "execution_count": 6,
     "metadata": {},
     "output_type": "execute_result"
    }
   ],
   "source": [
    "os.chdir('../')\n",
    "%pwd"
   ]
  },
  {
   "cell_type": "code",
   "execution_count": 7,
   "metadata": {},
   "outputs": [
    {
     "name": "stdout",
     "output_type": "stream",
     "text": [
      "[2024-09-30 15:25:22,187]-INFO-33-Yaml file config\\config.yaml reading\n",
      "[2024-09-30 15:25:22,227]-INFO-33-Yaml file param.yaml reading\n",
      "Model: \"vgg16\"\n",
      "_________________________________________________________________\n",
      " Layer (type)                Output Shape              Param #   \n",
      "=================================================================\n",
      " input_1 (InputLayer)        [(None, 224, 224, 3)]     0         \n",
      "                                                                 \n",
      " block1_conv1 (Conv2D)       (None, 224, 224, 64)      1792      \n",
      "                                                                 \n",
      " block1_conv2 (Conv2D)       (None, 224, 224, 64)      36928     \n",
      "                                                                 \n",
      " block1_pool (MaxPooling2D)  (None, 112, 112, 64)      0         \n",
      "                                                                 \n",
      " block2_conv1 (Conv2D)       (None, 112, 112, 128)     73856     \n",
      "                                                                 \n",
      " block2_conv2 (Conv2D)       (None, 112, 112, 128)     147584    \n",
      "                                                                 \n",
      " block2_pool (MaxPooling2D)  (None, 56, 56, 128)       0         \n",
      "                                                                 \n",
      " block3_conv1 (Conv2D)       (None, 56, 56, 256)       295168    \n",
      "                                                                 \n",
      " block3_conv2 (Conv2D)       (None, 56, 56, 256)       590080    \n",
      "                                                                 \n",
      " block3_conv3 (Conv2D)       (None, 56, 56, 256)       590080    \n",
      "                                                                 \n",
      " block3_pool (MaxPooling2D)  (None, 28, 28, 256)       0         \n",
      "                                                                 \n",
      " block4_conv1 (Conv2D)       (None, 28, 28, 512)       1180160   \n",
      "                                                                 \n",
      " block4_conv2 (Conv2D)       (None, 28, 28, 512)       2359808   \n",
      "                                                                 \n",
      " block4_conv3 (Conv2D)       (None, 28, 28, 512)       2359808   \n",
      "                                                                 \n",
      " block4_pool (MaxPooling2D)  (None, 14, 14, 512)       0         \n",
      "                                                                 \n",
      " block5_conv1 (Conv2D)       (None, 14, 14, 512)       2359808   \n",
      "                                                                 \n",
      " block5_conv2 (Conv2D)       (None, 14, 14, 512)       2359808   \n",
      "                                                                 \n",
      " block5_conv3 (Conv2D)       (None, 14, 14, 512)       2359808   \n",
      "                                                                 \n",
      " block5_pool (MaxPooling2D)  (None, 7, 7, 512)         0         \n",
      "                                                                 \n",
      "=================================================================\n",
      "Total params: 14714688 (56.13 MB)\n",
      "Trainable params: 14714688 (56.13 MB)\n",
      "Non-trainable params: 0 (0.00 Byte)\n",
      "_________________________________________________________________\n",
      "[2024-09-30 15:25:25,786]-INFO-16-Base model Summary: \n",
      "None\n",
      "[2024-09-30 15:25:25,803]-WARNING-359-Compiled the loaded model, but the compiled metrics have yet to be built. `model.compile_metrics` will be empty until you train or evaluate the model.\n"
     ]
    },
    {
     "name": "stderr",
     "output_type": "stream",
     "text": [
      "d:\\MaskImageDetection\\MaskDetectionModel\\Mask\\lib\\site-packages\\keras\\src\\engine\\training.py:3000: UserWarning: You are saving your model as an HDF5 file via `model.save()`. This file format is considered legacy. We recommend using instead the native Keras format, e.g. `model.save('my_model.keras')`.\n",
      "  saving_api.save_model(\n"
     ]
    },
    {
     "name": "stdout",
     "output_type": "stream",
     "text": [
      "[2024-09-30 15:25:26,702]-INFO-58-Model saved at artifacts\\base_model\\basemodel.h5\n",
      "[2024-09-30 15:25:27,041]-INFO-45-Customizes Sequential Model: <keras.src.engine.sequential.Sequential object at 0x0000029732A784C0>\n",
      "[2024-09-30 15:25:27,576]-INFO-58-Model saved at artifacts\\base_model\\updated_model.h5\n"
     ]
    }
   ],
   "source": [
    "#step6) update the pipeline to perform operation\n",
    "try:\n",
    "    cm = ConfigurationManager()\n",
    "    base_model_config = cm.get_base_model_config()\n",
    "\n",
    "    #creating an object of basemodel\n",
    "    bm = BaseModel(base_model_config)\n",
    "    bm.basemodel()\n",
    "\n",
    "    bm.update_base_model()\n",
    "\n",
    "except Exception as e:\n",
    "    raise CustomException(e,sys)"
   ]
  },
  {
   "cell_type": "code",
   "execution_count": null,
   "metadata": {},
   "outputs": [],
   "source": []
  }
 ],
 "metadata": {
  "kernelspec": {
   "display_name": "Python 3",
   "language": "python",
   "name": "python3"
  },
  "language_info": {
   "codemirror_mode": {
    "name": "ipython",
    "version": 3
   },
   "file_extension": ".py",
   "mimetype": "text/x-python",
   "name": "python",
   "nbconvert_exporter": "python",
   "pygments_lexer": "ipython3",
   "version": "3.8.16"
  }
 },
 "nbformat": 4,
 "nbformat_minor": 2
}
