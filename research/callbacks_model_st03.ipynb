{
 "cells": [
  {
   "cell_type": "code",
   "execution_count": 1,
   "metadata": {},
   "outputs": [],
   "source": [
    "import os,sys\n",
    "from src.Mask.Utils import SaveModel,read_yaml,create_directory\n",
    "from src.Mask.exceptions import CustomException\n",
    "from src.Mask.loggers import logger\n",
    "from src.Mask.Constants import *\n",
    "from dataclasses import dataclass\n",
    "from pathlib import Path"
   ]
  },
  {
   "cell_type": "code",
   "execution_count": 2,
   "metadata": {},
   "outputs": [],
   "source": [
    "#step3) update the entity file: entity file is nothing but whaterver parameter we have define in yaml\n",
    "#use those parameter to define class variable\n",
    "@dataclass\n",
    "class CallbackConfig():\n",
    "    #defining the class variable\n",
    "    root_dirpath:Path\n",
    "    tensorboard_log_dirpath:Path\n",
    "    model_checkpoint_path:Path\n",
    "    all_param:dict"
   ]
  },
  {
   "cell_type": "code",
   "execution_count": 3,
   "metadata": {},
   "outputs": [],
   "source": [
    "#step4)create configuration file in this file we read yaml file and create directories \n",
    "#and also assigning the value to class variable and taking rtn as function also\n",
    "class ConfigurationManager():\n",
    "    def __init__(self,config_filepath=CONFIG_FILEPATH,param_filepath=PARAM_FILEPATH):\n",
    "        self.config = read_yaml(config_filepath) #rtn value as configbox dictatonary\n",
    "        self.param = read_yaml(param_filepath)   #rtn value as configbox dictatonary\n",
    "\n",
    "        #creating artifacts directory\n",
    "        create_directory([self.config.artifact_root_dir]) #it ll create artifacts folder to project\n",
    "\n",
    "    def get_call_model_config(self) ->CallbackConfig:\n",
    "        #initializing the local variable\n",
    "        config = self.config.prepare_callbacks\n",
    "        param = self.param\n",
    "        #getting dirname from this artifacts/callbacks/model_checkpoint/model.h5\n",
    "        ckpt_directory = os.path.dirname(config.model_checkpoint_path) #create this path artifacts/callbacks/model_checkpoint\n",
    "\n",
    "        #creating directory of callbacks\n",
    "        create_directory([config.root_dirpath,ckpt_directory]) #create directoy artifacts/callbacks/model_checkpoint\n",
    "\n",
    "        #creating an object of class variable and taking rtn as function\n",
    "        callback_config = CallbackConfig(\n",
    "            root_dirpath=config.root_dirpath,\n",
    "            tensorboard_log_dirpath=config.tensorboard_log_dirpath,\n",
    "            model_checkpoint_path=config.model_checkpoint_path,\n",
    "            all_param=param\n",
    "        )\n",
    "        return callback_config"
   ]
  },
  {
   "cell_type": "code",
   "execution_count": 4,
   "metadata": {},
   "outputs": [],
   "source": [
    "import tensorflow as tf\n",
    "from datetime import datetime"
   ]
  },
  {
   "cell_type": "code",
   "execution_count": 5,
   "metadata": {},
   "outputs": [],
   "source": [
    "#step5)updating the component file in this file we create object for class variable and perform task accordingly\n",
    "class CallbackModel():\n",
    "    def __init__(self,callbackconfig:CallbackConfig):\n",
    "        self.callbackconfig = callbackconfig\n",
    "\n",
    "    @property\n",
    "    def _get_tensorboard_dir(self):\n",
    "        timestamp = datetime.now().strftime(\"%Y_%m_%d_%H_%M_%S\")\n",
    "        filename = f\"tensor_logfile{timestamp}.log\"\n",
    "\n",
    "        #if not exist this path make directory\n",
    "        os.makedirs(self.callbackconfig.tensorboard_log_dirpath,exist_ok=True)\n",
    "\n",
    "        return tf.keras.callbacks.TensorBoard(\n",
    "            log_dir=os.path.join(self.callbackconfig.tensorboard_log_dirpath,filename),\n",
    "              histogram_freq=1, write_graph=True, write_images=True\n",
    "        )\n",
    "\n",
    "    @property\n",
    "    def _model_checkpoint(self):\n",
    "        return tf.keras.callbacks.ModelCheckpoint(\n",
    "            filepath=self.callbackconfig.model_checkpoint_path,\n",
    "            monitor=\"val_loss\",\n",
    "            verbose = 1,\n",
    "            save_best_only=True\n",
    "        )\n",
    "\n",
    "    @property\n",
    "    def _early_stopping(self):\n",
    "        return tf.keras.callbacks.EarlyStopping(\n",
    "            monitor=\"val_loss\",\n",
    "            min_delta=self.callbackconfig.all_param.learning_rate,\n",
    "            patience=2,\n",
    "            verbose=1,\n",
    "            mode=\"auto\",\n",
    "            restore_best_weights=True,\n",
    "            start_from_epoch=0\n",
    "\n",
    "        )\n",
    "    \n",
    "    #creating main method callback\n",
    "    def callback(self):\n",
    "        return [\n",
    "            self._get_tensorboard_dir,\n",
    "            self._model_checkpoint,\n",
    "            self._early_stopping\n",
    "        ]"
   ]
  },
  {
   "cell_type": "code",
   "execution_count": 6,
   "metadata": {},
   "outputs": [
    {
     "data": {
      "text/plain": [
       "'d:\\\\MaskImageDetection\\\\MaskDetectionModel'"
      ]
     },
     "execution_count": 6,
     "metadata": {},
     "output_type": "execute_result"
    }
   ],
   "source": [
    "os.chdir('../')\n",
    "%pwd"
   ]
  },
  {
   "cell_type": "code",
   "execution_count": 7,
   "metadata": {},
   "outputs": [
    {
     "name": "stdout",
     "output_type": "stream",
     "text": [
      "[2024-09-30 19:05:52,812]-INFO-33-Yaml file config\\config.yaml reading\n",
      "[2024-09-30 19:05:52,930]-INFO-33-Yaml file param.yaml reading\n",
      "[2024-09-30 19:05:53,012]-INFO-49-Directory artifacts/callbacks created\n",
      "[2024-09-30 19:05:53,014]-INFO-49-Directory artifacts/callbacks/model_checkpoint created\n",
      "[2024-09-30 19:05:53,358]-INFO-11-<keras.src.callbacks.TensorBoard object at 0x000002051BF2C880>\n",
      "[2024-09-30 19:05:53,359]-INFO-11-<keras.src.callbacks.ModelCheckpoint object at 0x000002051BF3E550>\n",
      "[2024-09-30 19:05:53,360]-INFO-11-<keras.src.callbacks.EarlyStopping object at 0x000002051BF2C490>\n"
     ]
    }
   ],
   "source": [
    "#step6)updating the pipeline file\n",
    "try:\n",
    "    cm = ConfigurationManager()\n",
    "    callback_config = cm.get_call_model_config()\n",
    "\n",
    "    #creating an object of CallbackModel\n",
    "    cbm = CallbackModel(callback_config)\n",
    "\n",
    "    lst_obj = cbm.callback()\n",
    "    for obj in lst_obj:\n",
    "        logger.info(obj)\n",
    "\n",
    "except Exception as e:\n",
    "    raise CustomException(e,sys)"
   ]
  },
  {
   "cell_type": "code",
   "execution_count": 8,
   "metadata": {},
   "outputs": [
    {
     "data": {
      "text/plain": [
       "'d:\\\\MaskImageDetection\\\\MaskDetectionModel'"
      ]
     },
     "execution_count": 8,
     "metadata": {},
     "output_type": "execute_result"
    }
   ],
   "source": [
    "%pwd"
   ]
  },
  {
   "cell_type": "code",
   "execution_count": null,
   "metadata": {},
   "outputs": [],
   "source": []
  },
  {
   "cell_type": "code",
   "execution_count": null,
   "metadata": {},
   "outputs": [],
   "source": []
  },
  {
   "cell_type": "code",
   "execution_count": null,
   "metadata": {},
   "outputs": [],
   "source": []
  },
  {
   "cell_type": "code",
   "execution_count": null,
   "metadata": {},
   "outputs": [],
   "source": []
  },
  {
   "cell_type": "code",
   "execution_count": null,
   "metadata": {},
   "outputs": [],
   "source": []
  }
 ],
 "metadata": {
  "kernelspec": {
   "display_name": "Python 3",
   "language": "python",
   "name": "python3"
  },
  "language_info": {
   "codemirror_mode": {
    "name": "ipython",
    "version": 3
   },
   "file_extension": ".py",
   "mimetype": "text/x-python",
   "name": "python",
   "nbconvert_exporter": "python",
   "pygments_lexer": "ipython3",
   "version": "3.8.16"
  }
 },
 "nbformat": 4,
 "nbformat_minor": 2
}
